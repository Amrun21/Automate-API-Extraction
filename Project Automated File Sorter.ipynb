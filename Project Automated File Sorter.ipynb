{
 "cells": [
  {
   "cell_type": "markdown",
   "id": "7bc790dc-afc7-4111-b913-f65b93c0e176",
   "metadata": {},
   "source": [
    "## Automatic File Sorter in File Explorer"
   ]
  },
  {
   "cell_type": "code",
   "execution_count": 62,
   "id": "a7b6a91b-b985-45a4-8110-6218bff1390e",
   "metadata": {},
   "outputs": [],
   "source": [
    "import os, shutil"
   ]
  },
  {
   "cell_type": "code",
   "execution_count": 63,
   "id": "64eef036-a3bd-4c30-8cdf-8b56f038c572",
   "metadata": {},
   "outputs": [],
   "source": [
    "path = r'C:/Users/hnswp/Downloads/Background/'"
   ]
  },
  {
   "cell_type": "code",
   "execution_count": 64,
   "id": "d7ac2022-4e42-4944-a63b-1ba4b290c262",
   "metadata": {},
   "outputs": [],
   "source": [
    "file_name = os.listdir(path)"
   ]
  },
  {
   "cell_type": "code",
   "execution_count": 73,
   "id": "028fac62-efe7-4411-b598-0b371b62e3c6",
   "metadata": {},
   "outputs": [],
   "source": [
    "# Creating folder for each files\n",
    "\n",
    "folder_names = ['csv', 'image', 'text']\n",
    "\n",
    "for loop in range (0, 3):\n",
    "    if not os.path.exists(path + folder_names[loop]):\n",
    "        print(path + folder_names[loop])\n",
    "        os.makedirs(path + folder_names[loop])\n",
    "\n",
    "for file in file_name:\n",
    "    if '.csv' in file and not os.path.exists(path + 'csv/' + file):\n",
    "        shutil.move(path + file, path + 'csv/' + file)\n",
    "    elif '.jpg' in file and not os.path.exists(path + 'image/' + file):\n",
    "        shutil.move(path + file, path + 'image/' + file)\n",
    "    elif '.JPG' in file and not os.path.exists(path + 'image/' + file):\n",
    "        shutil.move(path + file, path + 'image/' + file)\n",
    "    elif '.txt' in file and not os.path.exists(path + 'text/' + file):\n",
    "        shutil.move(path + file, path + 'text/' + file)"
   ]
  },
  {
   "cell_type": "code",
   "execution_count": null,
   "id": "ce1e77c7-17f6-4528-8d6d-e732e80b5948",
   "metadata": {},
   "outputs": [],
   "source": []
  },
  {
   "cell_type": "code",
   "execution_count": null,
   "id": "d17ede0d-1ad8-4a06-99f0-24fd11b69bf3",
   "metadata": {},
   "outputs": [],
   "source": []
  },
  {
   "cell_type": "code",
   "execution_count": null,
   "id": "1f0c1274-b440-4598-bc7a-63df1c7b82d8",
   "metadata": {},
   "outputs": [],
   "source": []
  }
 ],
 "metadata": {
  "kernelspec": {
   "display_name": "Python 3 (ipykernel)",
   "language": "python",
   "name": "python3"
  },
  "language_info": {
   "codemirror_mode": {
    "name": "ipython",
    "version": 3
   },
   "file_extension": ".py",
   "mimetype": "text/x-python",
   "name": "python",
   "nbconvert_exporter": "python",
   "pygments_lexer": "ipython3",
   "version": "3.12.4"
  }
 },
 "nbformat": 4,
 "nbformat_minor": 5
}
